{
  "nbformat": 4,
  "nbformat_minor": 0,
  "metadata": {
    "colab": {
      "name": "JointTraining.ipynb",
      "provenance": [],
      "collapsed_sections": []
    },
    "kernelspec": {
      "name": "python3",
      "display_name": "Python 3"
    },
    "accelerator": "GPU"
  },
  "cells": [
    {
      "cell_type": "markdown",
      "metadata": {
        "id": "KCKQ6oEkks4e",
        "colab_type": "text"
      },
      "source": [
        "# ARGUMENTS AND PARAMETERS\n",
        "Consistent with what has been used in the rest of the work"
      ]
    },
    {
      "cell_type": "code",
      "metadata": {
        "id": "6QBRiZ0ckmeM",
        "colab_type": "code",
        "colab": {}
      },
      "source": [
        "# Directories\n",
        "DATA_DIR = 'data'       # Directory where the dataset will be downloaded\n",
        "\n",
        "# Settings\n",
        "DEVICE = 'cuda'\n",
        "\n",
        "# Dataset\n",
        "RANDOM_STATE = 420      # For reproducibility of results                        \n",
        "                        # Note: different random states give very different\n",
        "                        # splits and therefore very different results.\n",
        "\n",
        "NUM_CLASSES = 100       # Total number of classes\n",
        "NUM_BATCHES = 10\n",
        "CLASS_BATCH_SIZE = 10   # Size of batch of classes for incremental learning\n",
        "\n",
        "VAL_SIZE = 0.1          # Proportion of validation set with respect to training set (between 0 and 1)\n",
        "\n",
        "# Training\n",
        "BATCH_SIZE = 64         # Batch size (iCaRL sets this to 128)\n",
        "LR = 2                  # Initial learning rate\n",
        "                        # iCaRL sets LR = 2. Since they use BinaryCrossEntropy loss it is feasible,\n",
        "                        # in our case it would diverge as we use CrossEntropy loss.\n",
        "MOMENTUM = 0.9          # Momentum for stochastic gradient descent (SGD)\n",
        "WEIGHT_DECAY = 1e-5     # Weight decay from iCaRL\n",
        "\n",
        "NUM_RUNS = 3            # Number of runs of every method\n",
        "                        # Note: this should be at least 3 to have a fair benchmark\n",
        "\n",
        "NUM_EPOCHS = 70         # Total number of training epochs\n",
        "MILESTONES = [49, 63]   # Step down policy from iCaRL (MultiStepLR)\n",
        "                        # Decrease the learning rate by gamma at each milestone\n",
        "GAMMA = 0.2             # Gamma factor from iCaRL"
      ],
      "execution_count": 0,
      "outputs": []
    },
    {
      "cell_type": "code",
      "metadata": {
        "id": "Am4JferINoqv",
        "colab_type": "code",
        "colab": {}
      },
      "source": [
        "#import libraries\n",
        "\n",
        "import numpy as np\n",
        "import matplotlib.pyplot as plt\n",
        "import seaborn as sns\n",
        "import torch\n",
        "import torch.nn as nn\n",
        "import torch.nn.init as init\n",
        "import torch.optim as optim\n",
        "from torch.backends import cudnn\n",
        "from torch.utils.data import Subset, DataLoader\n",
        "import torchvision\n",
        "import torchvision.transforms as transforms\n",
        "from copy import deepcopy\n",
        "from sklearn.metrics import confusion_matrix"
      ],
      "execution_count": 0,
      "outputs": []
    },
    {
      "cell_type": "markdown",
      "metadata": {
        "id": "8vjpQ0DESekA",
        "colab_type": "text"
      },
      "source": [
        "# Data Preparation\n",
        "Load the CIFAR100 dataset and split it into train, val and test sets\n",
        "\n",
        "Apply transformations to the datasets"
      ]
    },
    {
      "cell_type": "code",
      "metadata": {
        "id": "b9k4cXIoSgJW",
        "colab_type": "code",
        "outputId": "510deef7-df52-4416-fd7a-c6625450086a",
        "colab": {
          "base_uri": "https://localhost:8080/",
          "height": 54
        }
      },
      "source": [
        "#Data Loading and Transformations\n",
        "\n",
        "train_transform = transforms.Compose(\n",
        "    [transforms.RandomCrop(32, padding=4),\n",
        "     transforms.RandomHorizontalFlip(),\n",
        "     transforms.ToTensor(),\n",
        "     transforms.Normalize((0.5, 0.5, 0.5), (0.5, 0.5, 0.5))])\n",
        "\n",
        "test_transform =  transforms.Compose([transforms.ToTensor(),\n",
        "                                     transforms.Normalize((0.5, 0.5, 0.5), (0.5, 0.5, 0.5))])\n",
        "\n",
        "train_dataset = torchvision.datasets.CIFAR100(root='./data', train=True,\n",
        "                                        download=True, transform=train_transform)\n",
        "\n",
        "test_dataset = torchvision.datasets.CIFAR100(root='./data', train=False,\n",
        "                                       download=True, transform=test_transform)\n",
        "\n",
        "\n",
        "# having the same random state as the rest of the notebook ensures that the train and evaluation splits of the dataset are the same\n",
        "\n",
        "len_dataset = len(train_dataset)\n",
        "indices = list(range(len_dataset))\n",
        "split = int(np.floor(VAL_SIZE*len_dataset))\n",
        "rs = np.random.RandomState(RANDOM_STATE)\n",
        "rs.shuffle(indices)\n",
        "train_indices, val_indices = indices[split:], indices[:split]\n",
        "\n",
        "train_dataloader= torch.utils.data.DataLoader(Subset(train_dataset, train_indices), batch_size=BATCH_SIZE,\n",
        "                                              shuffle=True, num_workers=4, drop_last=True)\n",
        "\n",
        "val_dataloader = torch.utils.data.DataLoader(Subset(train_dataset, val_indices), batch_size=BATCH_SIZE,\n",
        "                                              shuffle=True, num_workers=4, drop_last=True)\n",
        "\n",
        "test_dataloader = torch.utils.data.DataLoader(test_dataset, batch_size=BATCH_SIZE, shuffle=True, num_workers=4)\n"
      ],
      "execution_count": 22,
      "outputs": [
        {
          "output_type": "stream",
          "text": [
            "Files already downloaded and verified\n",
            "Files already downloaded and verified\n"
          ],
          "name": "stdout"
        }
      ]
    },
    {
      "cell_type": "markdown",
      "metadata": {
        "id": "GAfLC_zc1o-t",
        "colab_type": "text"
      },
      "source": [
        "# Training\n",
        "\n",
        "Load the model and train the network on the test set while evaluating the performance at every epoch\n"
      ]
    },
    {
      "cell_type": "code",
      "metadata": {
        "id": "b2BnVF_7Rd2N",
        "colab_type": "code",
        "outputId": "1610fe37-fcef-4426-8e44-b2f822d43837",
        "colab": {
          "base_uri": "https://localhost:8080/",
          "height": 146
        }
      },
      "source": [
        "!git clone https://github.com/LilMowgli/Resnet-CIFAR-100.git\n",
        "!mv \"Resnet-CIFAR-100\" \"Resnet\"\n",
        "\n",
        "from Resnet.resnet_cifar100 import resnet32"
      ],
      "execution_count": 23,
      "outputs": [
        {
          "output_type": "stream",
          "text": [
            "Cloning into 'Resnet-CIFAR-100'...\n",
            "remote: Enumerating objects: 24, done.\u001b[K\n",
            "remote: Counting objects:   4% (1/24)\u001b[K\rremote: Counting objects:   8% (2/24)\u001b[K\rremote: Counting objects:  12% (3/24)\u001b[K\rremote: Counting objects:  16% (4/24)\u001b[K\rremote: Counting objects:  20% (5/24)\u001b[K\rremote: Counting objects:  25% (6/24)\u001b[K\rremote: Counting objects:  29% (7/24)\u001b[K\rremote: Counting objects:  33% (8/24)\u001b[K\rremote: Counting objects:  37% (9/24)\u001b[K\rremote: Counting objects:  41% (10/24)\u001b[K\rremote: Counting objects:  45% (11/24)\u001b[K\rremote: Counting objects:  50% (12/24)\u001b[K\rremote: Counting objects:  54% (13/24)\u001b[K\rremote: Counting objects:  58% (14/24)\u001b[K\rremote: Counting objects:  62% (15/24)\u001b[K\rremote: Counting objects:  66% (16/24)\u001b[K\rremote: Counting objects:  70% (17/24)\u001b[K\rremote: Counting objects:  75% (18/24)\u001b[K\rremote: Counting objects:  79% (19/24)\u001b[K\rremote: Counting objects:  83% (20/24)\u001b[K\rremote: Counting objects:  87% (21/24)\u001b[K\rremote: Counting objects:  91% (22/24)\u001b[K\rremote: Counting objects:  95% (23/24)\u001b[K\rremote: Counting objects: 100% (24/24)\u001b[K\rremote: Counting objects: 100% (24/24), done.\u001b[K\n",
            "remote: Compressing objects:   4% (1/23)\u001b[K\rremote: Compressing objects:   8% (2/23)\u001b[K\rremote: Compressing objects:  13% (3/23)\u001b[K\rremote: Compressing objects:  17% (4/23)\u001b[K\rremote: Compressing objects:  21% (5/23)\u001b[K\rremote: Compressing objects:  26% (6/23)\u001b[K\rremote: Compressing objects:  30% (7/23)\u001b[K\rremote: Compressing objects:  34% (8/23)\u001b[K\rremote: Compressing objects:  39% (9/23)\u001b[K\rremote: Compressing objects:  43% (10/23)\u001b[K\rremote: Compressing objects:  47% (11/23)\u001b[K\rremote: Compressing objects:  52% (12/23)\u001b[K\rremote: Compressing objects:  56% (13/23)\u001b[K\rremote: Compressing objects:  60% (14/23)\u001b[K\rremote: Compressing objects:  65% (15/23)\u001b[K\rremote: Compressing objects:  69% (16/23)\u001b[K\rremote: Compressing objects:  73% (17/23)\u001b[K\rremote: Compressing objects:  78% (18/23)\u001b[K\rremote: Compressing objects:  82% (19/23)\u001b[K\rremote: Compressing objects:  86% (20/23)\u001b[K\rremote: Compressing objects:  91% (21/23)\u001b[K\rremote: Compressing objects:  95% (22/23)\u001b[K\rremote: Compressing objects: 100% (23/23)\u001b[K\rremote: Compressing objects: 100% (23/23), done.\u001b[K\n",
            "remote: Total 24 (delta 8), reused 0 (delta 0), pack-reused 0\u001b[K\n",
            "Unpacking objects:   4% (1/24)   \rUnpacking objects:   8% (2/24)   \rUnpacking objects:  12% (3/24)   \rUnpacking objects:  16% (4/24)   \rUnpacking objects:  20% (5/24)   \rUnpacking objects:  25% (6/24)   \rUnpacking objects:  29% (7/24)   \rUnpacking objects:  33% (8/24)   \rUnpacking objects:  37% (9/24)   \rUnpacking objects:  41% (10/24)   \rUnpacking objects:  45% (11/24)   \rUnpacking objects:  50% (12/24)   \rUnpacking objects:  54% (13/24)   \rUnpacking objects:  58% (14/24)   \rUnpacking objects:  62% (15/24)   \rUnpacking objects:  66% (16/24)   \rUnpacking objects:  70% (17/24)   \rUnpacking objects:  75% (18/24)   \rUnpacking objects:  79% (19/24)   \rUnpacking objects:  83% (20/24)   \rUnpacking objects:  87% (21/24)   \rUnpacking objects:  91% (22/24)   \rUnpacking objects:  95% (23/24)   \rUnpacking objects: 100% (24/24)   \rUnpacking objects: 100% (24/24), done.\n",
            "mv: cannot move 'Resnet-CIFAR-100' to 'Resnet/Resnet-CIFAR-100': Directory not empty\n"
          ],
          "name": "stdout"
        }
      ]
    },
    {
      "cell_type": "code",
      "metadata": {
        "id": "cSvHrN5foa3g",
        "colab_type": "code",
        "colab": {
          "base_uri": "https://localhost:8080/",
          "height": 899
        },
        "outputId": "4172971a-2131-4cfe-db0d-98ccd955b495"
      },
      "source": [
        "#define the network and expand the output layer to 100 classes\n",
        "\n",
        "net = resnet32()\n",
        "in_features = net.fc.in_features\n",
        "net.fc = nn.Linear(in_features, 100)  \n",
        "net.to(DEVICE)\n",
        "\n",
        "#the loss is the binary cross entropy with logits since the activation function is a sigmoid\n",
        "\n",
        "criterion = nn.BCEWithLogitsLoss()\n",
        "parameters_to_optimize = net.parameters()\n",
        "optimizer = optim.SGD(parameters_to_optimize, lr=LR,\n",
        "\t\t\t\t  momentum=MOMENTUM, weight_decay=WEIGHT_DECAY)\n",
        "scheduler = optim.lr_scheduler.MultiStepLR(optimizer, \n",
        "\t\t\t\t\t\t\t\t\t   milestones=MILESTONES, gamma=GAMMA)\n",
        "\n",
        "#train and evaluate the net\n",
        "\n",
        "cudnn.benchmark\n",
        "\n",
        "best_accuracy = 0 #these parameters are used in the validation stage\n",
        "best_epoch = 0\n",
        "current_epoch = 0\n",
        "\n",
        "for epoch in range(10): #NUM_EPOCHS = 70\n",
        "\tnet.train()          # put the net into training mode\n",
        "\trunning_train_loss = 0\n",
        "\trunning_corrects = 0\n",
        "\ttotal = 0\n",
        "\tbatch_idx = 0\n",
        "\tcurrent_epoch += 1\n",
        "\n",
        "\tprint(f\"Epoch: {current_epoch}, LR: {scheduler.get_last_lr()}\")\n",
        "\n",
        "\t#training the net \n",
        "\n",
        "\tfor data in train_dataloader:\n",
        "\t\timages, labels = data\n",
        "\t\toptimizer.zero_grad()\n",
        "\t\timages = images.to(DEVICE)\n",
        "\t\tlabels = labels.to(DEVICE)\n",
        "\t\tone_hot_labels = torch.eye(100)[labels].to(DEVICE)\n",
        "\n",
        "\t\toutputs = net(images)\n",
        "\t\tloss = criterion(outputs, one_hot_labels)\n",
        "\n",
        "\n",
        "\t\trunning_train_loss += loss.item()\n",
        "\t\t_, preds = torch.max(outputs.data, 1)\n",
        "\t\tcorrects = torch.sum(preds == labels.data).data.item()\n",
        "\n",
        "\t\tloss.backward()\n",
        "\t\toptimizer.step()\n",
        "\n",
        "\t\trunning_train_loss += loss.item()\n",
        "\t\trunning_corrects += corrects\n",
        "\t\ttotal += labels.size(0)\n",
        "\t\tbatch_idx += 1\n",
        "\n",
        "\t#scheduler.step() #update the learning rate after each epoch\n",
        "\n",
        "\t#calculate average scores\n",
        "\ttrain_loss = running_train_loss / batch_idx       # Average over all batches\n",
        "\ttrain_accuracy = running_corrects / float(total)  # Average over all samples\n",
        "\n",
        "\tprint(f\"Train loss: {train_loss}, Train accuracy: {train_accuracy}\")\n",
        "\n",
        "\t#validation on the same epoch as the training\n",
        "\n",
        "\tnet.train(False)\n",
        "\n",
        "\trunning_val_loss = 0\n",
        "\trunning_corrects = 0\n",
        "\ttotal = 0\n",
        "\tbatch_idx = 0\n",
        "\n",
        "\tfor data in val_dataloader:\n",
        "\t\timages, labels = data\n",
        "\t\timages = images.to(DEVICE)\n",
        "\t\tlabels = labels.to(DEVICE)\n",
        "\t\ttotal += labels.size(0)\n",
        "\n",
        "\t\tone_hot_labels = torch.eye(100)[labels].to(DEVICE)\n",
        "\n",
        "\t\toutputs = net(images)\n",
        "\t\tloss = criterion(outputs, one_hot_labels)\n",
        "\n",
        "\t\trunning_val_loss += loss.item()\n",
        "\n",
        "\t\t_, preds = torch.max(outputs.data, 1)\n",
        "\n",
        "\t\trunning_corrects += torch.sum(preds == labels.data).data.item()\n",
        "\n",
        "\t\tbatch_idx +=1\n",
        "\n",
        "\tval_loss = running_val_loss / batch_idx\n",
        "\tval_accuracy = running_corrects / float(total)  \n",
        "\n",
        "\tprint(f\"Validation loss: {val_loss}, Validation accuracy: {val_accuracy}\")\n",
        "\n",
        "\tif val_accuracy > best_accuracy:\n",
        "\t\tbest_accuracy = val_accuracy\n",
        "\t\tbest_net = deepcopy(net)\n",
        "\t\tbest_epoch = epoch\n",
        "\t\tprint(\"Best model updated\")\n",
        "\n",
        "\tprint(\"\")\n",
        "  \n",
        "#after training over all the epochs, save the state of the network in memory\n",
        "\n",
        "PATH = './cifar_net.pth'\n",
        "torch.save(net.state_dict(), PATH)\n"
      ],
      "execution_count": 25,
      "outputs": [
        {
          "output_type": "stream",
          "text": [
            "Epoch: 1, LR: [2]\n",
            "Train loss: 0.10937792481390884, Train accuracy: 0.05158694879089616\n",
            "Validation loss: 0.04907641211190285, Validation accuracy: 0.07411858974358974\n",
            "Best model updated\n",
            "\n",
            "Epoch: 2, LR: [2]\n",
            "Train loss: 0.09411464434429728, Train accuracy: 0.11475373399715505\n",
            "Validation loss: 0.04593840652169325, Validation accuracy: 0.1282051282051282\n",
            "Best model updated\n",
            "\n",
            "Epoch: 3, LR: [2]\n",
            "Train loss: 0.08734758041406933, Train accuracy: 0.17311966571834994\n",
            "Validation loss: 0.042505260127095074, Validation accuracy: 0.18950320512820512\n",
            "Best model updated\n",
            "\n",
            "Epoch: 4, LR: [2]\n",
            "Train loss: 0.08060743408555836, Train accuracy: 0.23115220483641535\n",
            "Validation loss: 0.03996721908259086, Validation accuracy: 0.23337339743589744\n",
            "Best model updated\n",
            "\n",
            "Epoch: 5, LR: [2]\n",
            "Train loss: 0.07488627680928406, Train accuracy: 0.2800053342816501\n",
            "Validation loss: 0.03843738921941855, Validation accuracy: 0.26742788461538464\n",
            "Best model updated\n",
            "\n",
            "Epoch: 6, LR: [2]\n",
            "Train loss: 0.07046404113704247, Train accuracy: 0.3242576458036984\n",
            "Validation loss: 0.0368099177781588, Validation accuracy: 0.2956730769230769\n",
            "Best model updated\n",
            "\n",
            "Epoch: 7, LR: [2]\n",
            "Train loss: 0.06670440890287098, Train accuracy: 0.35941945234708395\n",
            "Validation loss: 0.03529751990945675, Validation accuracy: 0.3295272435897436\n",
            "Best model updated\n",
            "\n",
            "Epoch: 8, LR: [2]\n",
            "Train loss: 0.06379653042868565, Train accuracy: 0.39251422475106684\n",
            "Validation loss: 0.03210376778569741, Validation accuracy: 0.390625\n",
            "Best model updated\n",
            "\n",
            "Epoch: 9, LR: [2]\n",
            "Train loss: 0.06118717597291446, Train accuracy: 0.4178965149359886\n",
            "Validation loss: 0.03231564216697828, Validation accuracy: 0.383213141025641\n",
            "\n",
            "Epoch: 10, LR: [2]\n",
            "Train loss: 0.05932580252015065, Train accuracy: 0.4334326102418208\n",
            "Validation loss: 0.03249276195390102, Validation accuracy: 0.3808092948717949\n",
            "\n"
          ],
          "name": "stdout"
        }
      ]
    },
    {
      "cell_type": "markdown",
      "metadata": {
        "id": "ps7cZy0pO0y5",
        "colab_type": "text"
      },
      "source": [
        "# Testing"
      ]
    },
    {
      "cell_type": "code",
      "metadata": {
        "id": "qrdz0x6LOzdK",
        "colab_type": "code",
        "colab": {
          "base_uri": "https://localhost:8080/",
          "height": 465
        },
        "outputId": "c90fb3e1-6caa-467d-f03d-c24378dfab38"
      },
      "source": [
        "#load the saved trained net from memory, optional\n",
        "\n",
        "#net = resnet32()\n",
        "#net.load_state_dict(torch.load(PATH))\n",
        "\n",
        "best_net.train(False)\n",
        "running_corrects = 0\n",
        "total = 0\n",
        "\n",
        "all_preds = torch.tensor([]) # to store all predictions\n",
        "all_preds = all_preds.type(torch.LongTensor)\n",
        "\n",
        "with torch.no_grad():\n",
        "  for data in test_dataloader:\n",
        "    images, labels = data\n",
        "    images = images.to(DEVICE)\n",
        "    labels = labels.to(DEVICE)\n",
        "    total += labels.size(0)\n",
        "    outputs = best_net(images)\n",
        "\n",
        "    _, preds = torch.max(outputs.data, 1)\n",
        "\n",
        "    running_corrects += torch.sum(preds == labels.data).data.item()\n",
        "\n",
        "    all_preds = torch.cat((all_preds.to(DEVICE), preds.to(DEVICE)), dim=0)\n",
        "\n",
        "accuracy = running_corrects / float(total)\n",
        "print(f\"Test accuracy: {accuracy}\")\n",
        "\n",
        "#display the confusion matrix\n",
        "\n",
        "targets = test_dataset.targets\n",
        "predictions = all_preds.to('cpu').numpy()\n",
        "\n",
        "cm = confusion_matrix(targets, predictions)\n",
        "\n",
        "fig, ax = plt.subplots(figsize=(5, 5), dpi=100)\n",
        "ax = sns.heatmap(cm, square=True, cmap='Blues', annot=None)\n",
        "plt.show\n"
      ],
      "execution_count": 27,
      "outputs": [
        {
          "output_type": "stream",
          "text": [
            "Test accuracy: 0.3928\n"
          ],
          "name": "stdout"
        },
        {
          "output_type": "execute_result",
          "data": {
            "text/plain": [
              "<function matplotlib.pyplot.show>"
            ]
          },
          "metadata": {
            "tags": []
          },
          "execution_count": 27
        },
        {
          "output_type": "display_data",
          "data": {
            "image/png": "[encoded data removed]",
            "text/plain": [
              "<Figure size 500x500 with 2 Axes>"
            ]
          },
          "metadata": {
            "tags": [],
            "needs_background": "light"
          }
        }
      ]
    }
  ]
}